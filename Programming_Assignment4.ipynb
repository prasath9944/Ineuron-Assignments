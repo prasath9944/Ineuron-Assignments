{
  "nbformat": 4,
  "nbformat_minor": 0,
  "metadata": {
    "colab": {
      "provenance": [],
      "authorship_tag": "ABX9TyPjD/KhovQdr/K1BhnqsOYQ",
      "include_colab_link": true
    },
    "kernelspec": {
      "name": "python3",
      "display_name": "Python 3"
    },
    "language_info": {
      "name": "python"
    }
  },
  "cells": [
    {
      "cell_type": "markdown",
      "metadata": {
        "id": "view-in-github",
        "colab_type": "text"
      },
      "source": [
        "<a href=\"https://colab.research.google.com/github/prasath9944/Ineuron-Assignments/blob/main/Programming_Assignment4.ipynb\" target=\"_parent\"><img src=\"https://colab.research.google.com/assets/colab-badge.svg\" alt=\"Open In Colab\"/></a>"
      ]
    },
    {
      "cell_type": "markdown",
      "source": [
        "<h1>1. Write a Python Program to Find the Factorial of a Number?</h1>"
      ],
      "metadata": {
        "id": "G2W0O9C0T4jn"
      }
    },
    {
      "cell_type": "code",
      "execution_count": 8,
      "metadata": {
        "id": "cStnjacXT4FQ"
      },
      "outputs": [],
      "source": [
        "def Fact(number):\n",
        "  try:\n",
        "    temp=1\n",
        "    if number==0 or number==1:\n",
        "      return 1\n",
        "    for i in range(2,number+1):\n",
        "      temp=temp*i\n",
        "    return temp\n",
        "  except Exception as e:\n",
        "    return e\n"
      ]
    },
    {
      "cell_type": "code",
      "source": [
        "# Recursive Method\n",
        "def Fact_Recursive(num):\n",
        "  try:\n",
        "    if num==0 or num==1:\n",
        "      return 1\n",
        "    else:\n",
        "      return Fact_Recursive(num-1)*num\n",
        "  except Exception as e:\n",
        "    return e"
      ],
      "metadata": {
        "id": "iR9dZj3dU8Zc"
      },
      "execution_count": 9,
      "outputs": []
    },
    {
      "cell_type": "code",
      "source": [
        "try:\n",
        "  num=int(input(\"Enter a number to find fact of that number: \"))\n",
        "  print(f\"The Factorial of {num} is {Fact_Recursive(num)}\")\n",
        "except Exception as e:\n",
        "  print(e)"
      ],
      "metadata": {
        "colab": {
          "base_uri": "https://localhost:8080/"
        },
        "id": "SAnfQmHJUKAw",
        "outputId": "28448418-598a-41f0-8139-11ea3ce0bf7a"
      },
      "execution_count": 10,
      "outputs": [
        {
          "output_type": "stream",
          "name": "stdout",
          "text": [
            "Enter a number to find fact of that number: 5\n",
            "The Factorial of 5 is 120\n"
          ]
        }
      ]
    },
    {
      "cell_type": "markdown",
      "source": [
        "<h1>2. Write a Python Program to Display the multiplication Table?</h1>"
      ],
      "metadata": {
        "id": "ZhJD_a_6VdlB"
      }
    },
    {
      "cell_type": "code",
      "source": [
        "num=int(input(\"Enter the Muplication number: \"))\n",
        "count=int(input(\"Enter the count of Muplication Table to Show: \"))\n",
        "for i in range(1,count+1):\n",
        "  print(i,\"X\",num,\"=\",i*num)"
      ],
      "metadata": {
        "colab": {
          "base_uri": "https://localhost:8080/"
        },
        "id": "QnJeqCRcUnZd",
        "outputId": "f51c3acb-f9f9-4ea7-8d30-6345e0f396ec"
      },
      "execution_count": 14,
      "outputs": [
        {
          "output_type": "stream",
          "name": "stdout",
          "text": [
            "Enter the Muplication number: 15\n",
            "Enter the count of Muplication Table to Show: 12\n",
            "1 X 15 = 15\n",
            "2 X 15 = 30\n",
            "3 X 15 = 45\n",
            "4 X 15 = 60\n",
            "5 X 15 = 75\n",
            "6 X 15 = 90\n",
            "7 X 15 = 105\n",
            "8 X 15 = 120\n",
            "9 X 15 = 135\n",
            "10 X 15 = 150\n",
            "11 X 15 = 165\n",
            "12 X 15 = 180\n"
          ]
        }
      ]
    },
    {
      "cell_type": "markdown",
      "source": [
        "<h1>3. Write a Python Program to Print the Fibonacci sequence?</h1>"
      ],
      "metadata": {
        "id": "mxCy6vUMWWp7"
      }
    },
    {
      "cell_type": "code",
      "source": [
        "def fibonacci_Sequence(num):\n",
        "  try:\n",
        "    a=0\n",
        "    b=1\n",
        "    for i in range(2,num):\n",
        "      c=a+b\n",
        "      a=b\n",
        "      b=c\n",
        "      print(c)\n",
        "  except Exception as e:\n",
        "    print(e)"
      ],
      "metadata": {
        "id": "N7GRGovTWAac"
      },
      "execution_count": 15,
      "outputs": []
    },
    {
      "cell_type": "code",
      "source": [
        "try:\n",
        "  number=int(input(\"Enter the range of number to show the sequence: \"))\n",
        "  fibonacci_Sequence(number)\n",
        "except Exception as e: \n",
        "  print(e)"
      ],
      "metadata": {
        "colab": {
          "base_uri": "https://localhost:8080/"
        },
        "id": "edUJoSawZqWc",
        "outputId": "e8d1fd9e-b4bc-40cc-c5fe-14ab7e7f1bfa"
      },
      "execution_count": 19,
      "outputs": [
        {
          "output_type": "stream",
          "name": "stdout",
          "text": [
            "Enter the range of number to show the sequence: 8\n",
            "1\n",
            "2\n",
            "3\n",
            "5\n",
            "8\n",
            "13\n"
          ]
        }
      ]
    },
    {
      "cell_type": "markdown",
      "source": [
        "<h1>4. Write a Python Program to Check Armstrong Number?</h1>"
      ],
      "metadata": {
        "id": "1jKtO0LmaFHF"
      }
    },
    {
      "cell_type": "code",
      "source": [
        "def is_Armstrong(num):\n",
        "  digit=0\n",
        "  sum=0\n",
        "  temp=num\n",
        "  while temp>0:\n",
        "    digit=digit+1\n",
        "    temp=temp//10\n",
        "  temp=num\n",
        "  while temp>0:\n",
        "    digit_num=temp%10\n",
        "    sum=sum+digit_num**digit\n",
        "    temp//=10\n",
        "  if sum==num:\n",
        "    print(f\"The Number {num} is Armstrong Number.\")\n",
        "  else:\n",
        "    print(f\"The Number {num} is Not a Armstrong Number.\")\n",
        "\n"
      ],
      "metadata": {
        "id": "2-FgTKFVZ-pr"
      },
      "execution_count": 53,
      "outputs": []
    },
    {
      "cell_type": "code",
      "source": [
        "number=int(input(\"Enter a number to find the Armstrong Number: \"))\n",
        "is_Armstrong(number)"
      ],
      "metadata": {
        "colab": {
          "base_uri": "https://localhost:8080/"
        },
        "id": "0QfF4xFmcZ_z",
        "outputId": "0aa38074-af9a-4213-9835-8ddb5befe4e9"
      },
      "execution_count": 55,
      "outputs": [
        {
          "output_type": "stream",
          "name": "stdout",
          "text": [
            "Enter a number to find the Armstrong Number: 153\n",
            "The Number 153 is Armstrong Number.\n"
          ]
        }
      ]
    },
    {
      "cell_type": "code",
      "source": [
        "def Find_Armstrong(num):\n",
        "  digit=0\n",
        "  sum=0\n",
        "  temp=num\n",
        "  while temp>0:\n",
        "    digit=digit+1\n",
        "    temp=temp//10\n",
        "  temp=num\n",
        "  while temp>0:\n",
        "    digit_num=temp%10\n",
        "    sum=sum+digit_num**digit\n",
        "    temp//=10\n",
        "  if sum==num:\n",
        "    return True\n",
        "  else:\n",
        "    return False\n"
      ],
      "metadata": {
        "id": "qPhsqMiJgs_1"
      },
      "execution_count": 57,
      "outputs": []
    },
    {
      "cell_type": "markdown",
      "source": [
        "<h1>5. Write a Python Program to Find Armstrong Number in an Interval?</h1>"
      ],
      "metadata": {
        "id": "i3b_MZq-gd9U"
      }
    },
    {
      "cell_type": "code",
      "source": [
        "lower_interval=int(input(\"Enter the lower bound: \"))\n",
        "upper_interval=int(input(\"Enter the upper bound: \"))\n",
        "for i in range(lower_interval,upper_interval+1):\n",
        "  if Find_Armstrong(i)==True:\n",
        "    print(i)\n"
      ],
      "metadata": {
        "colab": {
          "base_uri": "https://localhost:8080/"
        },
        "id": "5xB46De1ZzX_",
        "outputId": "fb72f55f-a3df-4486-b756-fa417933dde4"
      },
      "execution_count": 58,
      "outputs": [
        {
          "output_type": "stream",
          "name": "stdout",
          "text": [
            "Enter the lower bound: 1\n",
            "Enter the upper bound: 10000\n",
            "1\n",
            "2\n",
            "3\n",
            "4\n",
            "5\n",
            "6\n",
            "7\n",
            "8\n",
            "9\n",
            "153\n",
            "370\n",
            "371\n",
            "407\n",
            "1634\n",
            "8208\n",
            "9474\n"
          ]
        }
      ]
    },
    {
      "cell_type": "markdown",
      "source": [
        "<h1>6. Write a Python Program to Find the Sum of Natural Numbers?</h1>"
      ],
      "metadata": {
        "id": "A8P0oBoqhIs_"
      }
    },
    {
      "cell_type": "code",
      "source": [
        "try:\n",
        "  natural_num=int(input(\"Enter the range to find the Sum of Natural Number: \"))\n",
        "  sum=0\n",
        "  if natural_num>0:\n",
        "    sum=(natural_num*(natural_num+1))/2\n",
        "  print(sum)\n",
        "except Exception as e:\n",
        "  print(e)"
      ],
      "metadata": {
        "colab": {
          "base_uri": "https://localhost:8080/"
        },
        "id": "esUs27S5hARe",
        "outputId": "5fcb66a0-dbc2-47b9-9fc0-6f8d309f1924"
      },
      "execution_count": 59,
      "outputs": [
        {
          "output_type": "stream",
          "name": "stdout",
          "text": [
            "Enter the range to find the Sum of Natural Number: 5\n",
            "15.0\n"
          ]
        }
      ]
    },
    {
      "cell_type": "code",
      "source": [],
      "metadata": {
        "id": "sFDT85jbh3lK"
      },
      "execution_count": null,
      "outputs": []
    },
    {
      "cell_type": "code",
      "source": [],
      "metadata": {
        "id": "CthdJUXHVfcf"
      },
      "execution_count": null,
      "outputs": []
    }
  ]
}