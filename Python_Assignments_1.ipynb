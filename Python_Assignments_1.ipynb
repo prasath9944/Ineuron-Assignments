{
 "cells": [
  {
   "cell_type": "markdown",
   "id": "27169653",
   "metadata": {},
   "source": [
    "### 1. In the below elements which of them are values or an expression? eg:- values can beinteger or string and expressions will be mathematical operators.\n",
    "### *\n",
    "### 'hello'\n",
    "### -87.8\n",
    "### -\n",
    "### /\n",
    "### +\n",
    "### 6"
   ]
  },
  {
   "cell_type": "code",
   "execution_count": null,
   "id": "13037516",
   "metadata": {},
   "outputs": [],
   "source": [
    "\n",
    "'hello'    - Values (String)\n",
    "-87.8      - Values (Integer)\n",
    "-          - Expression (Subtraction Operator)\n",
    "/          - Expression (Division Operator)\n",
    "+          - Expression (Addition Operator)\n",
    "6          - Values (Integer)"
   ]
  },
  {
   "cell_type": "markdown",
   "id": "902375a6",
   "metadata": {},
   "source": [
    "### 2. What is the difference between string and variable?"
   ]
  },
  {
   "cell_type": "code",
   "execution_count": null,
   "id": "64ecc2bf",
   "metadata": {},
   "outputs": [],
   "source": [
    "String:\n",
    "    A string is a datatype for sequence of characters enclosed within the single or double quotes.Python does not have character data type to store the string. It has a string as a data type to store a sequence of characters in a variable.\n",
    "    \n",
    "    example: my_var=\"Hello World\"\n",
    " Here \"Hello World\" is a String type\n",
    " \n",
    "Variable:\n",
    "    Variable is an identifier to store a value in a memory location. Varaible can have different datatypes int,float,string,list,etc.A variable is basically the name of the location in the primary memory of your computer. This can be chosen by you.\n",
    "    \n",
    "    example: My_varibale=3\n",
    "   Here My_variable holds the integer data in the computer memory.\n",
    "    "
   ]
  },
  {
   "cell_type": "markdown",
   "id": "bc4aa612",
   "metadata": {},
   "source": [
    "### 3. Describe three different data types."
   ]
  },
  {
   "cell_type": "code",
   "execution_count": null,
   "id": "0897c817",
   "metadata": {},
   "outputs": [],
   "source": [
    "Integer Type:\n",
    "    It holds numerical value of non-fractional values.\n",
    "    It return type is int.\n",
    "    We can perform basic Arithmetic Operations using the integer data.\n",
    "    It is non-Iterable objects\n",
    "    \n",
    "    eg: my_int=45\n",
    "\n",
    "String Type:\n",
    "    It hold sequence of characters enclosed within the single or double quotes.\n",
    "    It is Iterable Objects.\n",
    "    It can perform concatenation and multiplication operations.\n",
    "    string are immutable\n",
    "    \n",
    "    eg: my_string=\"Hello String\"\n",
    "    \n",
    "List Type:\n",
    "     A list contains items separated by commas and enclosed within square brackets [].\n",
    "     list types is Ordered\n",
    "     they are Mutable.\n",
    "     They can be Homogenous or hetrogenous\n",
    "     They can be nested\n",
    "        \n",
    "    eg: my_list=[1,2,3,'hello',[2,3,4],{\"Key1\":12,\"key2\":34},6]"
   ]
  },
  {
   "cell_type": "markdown",
   "id": "33f6fa82",
   "metadata": {},
   "source": [
    "### 4. What is an expression made up of? What do all expressions do?"
   ]
  },
  {
   "cell_type": "code",
   "execution_count": null,
   "id": "05dbd07c",
   "metadata": {},
   "outputs": [],
   "source": [
    "Expression is made up of values, containers, and mathematical operators (operands) e.g a = 2 + 3 and\n",
    "expressions are used to evaluate the values or represent the result on the screen."
   ]
  },
  {
   "cell_type": "markdown",
   "id": "38350bc5",
   "metadata": {},
   "source": [
    "### 5. This assignment statements, like spam = 10. What is the difference between an expression and a statement?"
   ]
  },
  {
   "cell_type": "code",
   "execution_count": null,
   "id": "5e1ad7c5",
   "metadata": {},
   "outputs": [],
   "source": [
    "Expression:\n",
    "    An expression evaluates to some value\n",
    "    Expressions only contain identifiers, literals and operators, where operators include arithmetic and boolean operators.\n",
    "    \n",
    "       x= x + 2         # an expression\n",
    "\n",
    "    \n",
    "Statement:\n",
    "    A statement performs some action\n",
    "    Statements are everything that can make up a line of Python code to execute the expressions.\n",
    "    \n",
    "     x = 1         # a statement \n",
    "    y = x + 1     # a statement\n",
    "    print( y)       # a statement"
   ]
  },
  {
   "cell_type": "markdown",
   "id": "74d130b0",
   "metadata": {},
   "source": [
    "### 6. After running the following code, what does the variable bacon contain?\n",
    "### bacon = 22\n",
    "### bacon + 1"
   ]
  },
  {
   "cell_type": "code",
   "execution_count": 2,
   "id": "b9a8856b",
   "metadata": {},
   "outputs": [
    {
     "data": {
      "text/plain": [
       "23"
      ]
     },
     "execution_count": 2,
     "metadata": {},
     "output_type": "execute_result"
    }
   ],
   "source": [
    "becon=22\n",
    "becon+1"
   ]
  },
  {
   "cell_type": "code",
   "execution_count": 3,
   "id": "bfbe0efe",
   "metadata": {},
   "outputs": [
    {
     "name": "stdout",
     "output_type": "stream",
     "text": [
      "22\n"
     ]
    }
   ],
   "source": [
    "print(becon)"
   ]
  },
  {
   "cell_type": "markdown",
   "id": "86eecde8",
   "metadata": {},
   "source": [
    "### 7. What should the values of the following two terms be?\n",
    "### 'spam' + 'spamspam'\n",
    "### 'spam' * 3"
   ]
  },
  {
   "cell_type": "code",
   "execution_count": 4,
   "id": "1676d689",
   "metadata": {},
   "outputs": [
    {
     "data": {
      "text/plain": [
       "'spamspamspam'"
      ]
     },
     "execution_count": 4,
     "metadata": {},
     "output_type": "execute_result"
    }
   ],
   "source": [
    "'spam'+'spamspam'"
   ]
  },
  {
   "cell_type": "code",
   "execution_count": 5,
   "id": "ba2ae9b7",
   "metadata": {},
   "outputs": [
    {
     "data": {
      "text/plain": [
       "'spamspamspam'"
      ]
     },
     "execution_count": 5,
     "metadata": {},
     "output_type": "execute_result"
    }
   ],
   "source": [
    "'spam'*3"
   ]
  },
  {
   "cell_type": "markdown",
   "id": "8fc20d4e",
   "metadata": {},
   "source": [
    "### 8. Why is eggs a valid variable name while 100 is invalid?"
   ]
  },
  {
   "cell_type": "code",
   "execution_count": null,
   "id": "d5e1b371",
   "metadata": {},
   "outputs": [],
   "source": [
    "Variable name should start with letter(a-zA-Z) or underscore (_).\n",
    "Variable name can have numbers but not at the beginning.\n",
    "As 100 is invalid because varible can not start with a number\n"
   ]
  },
  {
   "cell_type": "markdown",
   "id": "552f9a2e",
   "metadata": {},
   "source": [
    "### 9. What three functions can be used to get the integer, floating-point number, or string version of a value?"
   ]
  },
  {
   "cell_type": "code",
   "execution_count": null,
   "id": "1cb98892",
   "metadata": {},
   "outputs": [],
   "source": [
    "str(), int(), float()"
   ]
  },
  {
   "cell_type": "markdown",
   "id": "bfdf4bdc",
   "metadata": {},
   "source": [
    "### 10. Why does this expression cause an error? How can you fix it?\n",
    "### 'I have eaten' + 99 + 'burritos' "
   ]
  },
  {
   "cell_type": "code",
   "execution_count": 6,
   "id": "0c9b00c3",
   "metadata": {},
   "outputs": [
    {
     "ename": "TypeError",
     "evalue": "can only concatenate str (not \"int\") to str",
     "output_type": "error",
     "traceback": [
      "\u001b[1;31m---------------------------------------------------------------------------\u001b[0m",
      "\u001b[1;31mTypeError\u001b[0m                                 Traceback (most recent call last)",
      "\u001b[1;32m~\\AppData\\Local\\Temp/ipykernel_16680/2630289103.py\u001b[0m in \u001b[0;36m<module>\u001b[1;34m\u001b[0m\n\u001b[1;32m----> 1\u001b[1;33m \u001b[1;34m'I have eaten'\u001b[0m\u001b[1;33m+\u001b[0m\u001b[1;36m99\u001b[0m\u001b[1;33m+\u001b[0m\u001b[1;34m'burritos'\u001b[0m\u001b[1;33m\u001b[0m\u001b[1;33m\u001b[0m\u001b[0m\n\u001b[0m",
      "\u001b[1;31mTypeError\u001b[0m: can only concatenate str (not \"int\") to str"
     ]
    }
   ],
   "source": [
    "'I have eaten'+99+'burritos'"
   ]
  },
  {
   "cell_type": "code",
   "execution_count": null,
   "id": "199c91bb",
   "metadata": {},
   "outputs": [],
   "source": [
    "can only concatenate str (not \"int\") to str\n",
    " because 99 is an integer it cannot be concatenated with strings, if we have to concatenate it we need to do typecasting."
   ]
  }
 ],
 "metadata": {
  "kernelspec": {
   "display_name": "Python 3 (ipykernel)",
   "language": "python",
   "name": "python3"
  },
  "language_info": {
   "codemirror_mode": {
    "name": "ipython",
    "version": 3
   },
   "file_extension": ".py",
   "mimetype": "text/x-python",
   "name": "python",
   "nbconvert_exporter": "python",
   "pygments_lexer": "ipython3",
   "version": "3.9.7"
  }
 },
 "nbformat": 4,
 "nbformat_minor": 5
}
